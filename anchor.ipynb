{
 "cells": [
  {
   "cell_type": "code",
   "execution_count": 18,
   "id": "54dadd51",
   "metadata": {},
   "outputs": [],
   "source": [
    "import xgboost as xgb\n",
    "\n",
    "from sklearn import datasets\n",
    "from sklearn.model_selection import train_test_split\n",
    "\n",
    "from anchor import anchor_tabular"
   ]
  },
  {
   "cell_type": "code",
   "execution_count": 19,
   "id": "3c3f9b29",
   "metadata": {},
   "outputs": [],
   "source": [
    "iris = datasets.load_iris()\n",
    "\n",
    "X_train, X_test, y_train, y_test = train_test_split(iris.data, iris.target, test_size=0.3, random_state=42)\n"
   ]
  },
  {
   "cell_type": "code",
   "execution_count": 22,
   "id": "0b9b7528",
   "metadata": {},
   "outputs": [
    {
     "data": {
      "text/plain": [
       "XGBClassifier(base_score=0.5, booster='gbtree', colsample_bylevel=1,\n",
       "              colsample_bynode=1, colsample_bytree=1, gamma=0, gpu_id=-1,\n",
       "              importance_type='gain', interaction_constraints='',\n",
       "              learning_rate=0.300000012, max_delta_step=0, max_depth=6,\n",
       "              min_child_weight=1, missing=nan, monotone_constraints='()',\n",
       "              n_estimators=100, n_jobs=0, num_parallel_tree=1,\n",
       "              objective='multi:softprob', random_state=89, reg_alpha=0,\n",
       "              reg_lambda=1, scale_pos_weight=None, subsample=1,\n",
       "              tree_method='exact', validate_parameters=1, verbosity=None)"
      ]
     },
     "execution_count": 22,
     "metadata": {},
     "output_type": "execute_result"
    }
   ],
   "source": [
    "xgb_model = xgb.XGBClassifier(random_state=89)\n",
    "xgb_model.fit(X_train, y_train)\n"
   ]
  },
  {
   "cell_type": "code",
   "execution_count": 24,
   "id": "c35157d1",
   "metadata": {},
   "outputs": [
    {
     "name": "stdout",
     "output_type": "stream",
     "text": [
      "1.0\n"
     ]
    }
   ],
   "source": [
    "print(round(xgb_model.score(X_test, y_test),4))"
   ]
  },
  {
   "cell_type": "code",
   "execution_count": 25,
   "id": "04fb51fa",
   "metadata": {},
   "outputs": [],
   "source": [
    "explainer = anchor_tabular.AnchorTabularExplainer(\n",
    "\n",
    "class_names= iris.target_names,\n",
    "    feature_names = iris.feature_names,\n",
    "    train_data = X_train\n",
    "\n",
    "\n",
    ")"
   ]
  },
  {
   "cell_type": "code",
   "execution_count": 26,
   "id": "46f2a203",
   "metadata": {},
   "outputs": [
    {
     "data": {
      "text/plain": [
       "array([4.7, 3.2, 1.6, 0.2])"
      ]
     },
     "execution_count": 26,
     "metadata": {},
     "output_type": "execute_result"
    }
   ],
   "source": [
    "X_test[20]"
   ]
  },
  {
   "cell_type": "code",
   "execution_count": 27,
   "id": "ca76e1aa",
   "metadata": {},
   "outputs": [
    {
     "data": {
      "text/plain": [
       "array(['setosa'], dtype='<U10')"
      ]
     },
     "execution_count": 27,
     "metadata": {},
     "output_type": "execute_result"
    }
   ],
   "source": [
    "explainer.class_names[xgb_model.predict(X_test[20].reshape(1,-1))]"
   ]
  },
  {
   "cell_type": "code",
   "execution_count": 28,
   "id": "4d92ae4d",
   "metadata": {},
   "outputs": [
    {
     "data": {
      "text/plain": [
       "'setosa'"
      ]
     },
     "execution_count": 28,
     "metadata": {},
     "output_type": "execute_result"
    }
   ],
   "source": [
    "explainer.class_names[xgb_model.predict(X_test[20].reshape(1,-1))][0]"
   ]
  },
  {
   "cell_type": "code",
   "execution_count": 33,
   "id": "43cb3448",
   "metadata": {},
   "outputs": [
    {
     "name": "stdout",
     "output_type": "stream",
     "text": [
      "Prediction:  setosa\n",
      "Anchor: petal length (cm) <= 1.70\n",
      "Precision: 1.00\n",
      "Coverage: 0.28\n"
     ]
    }
   ],
   "source": [
    "#### 95% \n",
    "##This means that the predictions for the explanation\n",
    "##it has generated will hold at least 95% of the time\n",
    "\n",
    "### 100% of the registers that match this rule are setosa and that \n",
    "## 6% of the training registers match this rule. \n",
    "\n",
    "\n",
    "exp = explainer.explain_instance(X_test[20], xgb_model.predict, threshold=0.95)\n",
    "\n",
    "print('Prediction: ', explainer.class_names[xgb_model.predict(X_test[20].reshape(1,-1))][0])\n",
    "print('Anchor: %s' % (' AND '.join(exp.names())))\n",
    "print('Precision: %.2f' % exp.precision())\n",
    "print('Coverage: %.2f' % exp.coverage())\n"
   ]
  },
  {
   "cell_type": "code",
   "execution_count": 42,
   "id": "c4ff7d57",
   "metadata": {},
   "outputs": [
    {
     "name": "stdout",
     "output_type": "stream",
     "text": [
      "Prediction:  setosa\n",
      "Anchor: petal length (cm) <= 1.70\n",
      "Precision: 1.00\n",
      "Coverage: 0.28\n"
     ]
    }
   ],
   "source": [
    "#### 95% \n",
    "##This means that the predictions for the explanation\n",
    "##it has generated will hold at least 95% of the time\n",
    "\n",
    "### 100% of the registers that match this rule are setosa and that \n",
    "## 6% of the training registers match this rule. \n",
    "\n",
    "\n",
    "exp = explainer.explain_instance(X_test[30], xgb_model.predict, threshold=0.95)\n",
    "print('Prediction: ', explainer.class_names[xgb_model.predict(X_test[30].reshape(1,-1))][0])\n",
    "print('Anchor: %s' % (' AND '.join(exp.names())))\n",
    "print('Precision: %.2f' % exp.precision())\n",
    "print('Coverage: %.2f' % exp.coverage())\n"
   ]
  },
  {
   "cell_type": "code",
   "execution_count": 43,
   "id": "388f184d",
   "metadata": {},
   "outputs": [
    {
     "name": "stdout",
     "output_type": "stream",
     "text": [
      "Prediction:  versicolor\n",
      "Anchor: 1.70 < petal length (cm) <= 4.30 AND petal width (cm) > 0.40\n",
      "Precision: 1.00\n",
      "Coverage: 0.21\n"
     ]
    }
   ],
   "source": [
    "exp = explainer.explain_instance(X_test[9], xgb_model.predict, threshold=0.95)\n",
    "print('Prediction: ', explainer.class_names[xgb_model.predict(X_test[9].reshape(1,-1))][0])\n",
    "print('Anchor: %s' % (' AND '.join(exp.names())))\n",
    "print('Precision: %.2f' % exp.precision())\n",
    "print('Coverage: %.2f' % exp.coverage())\n"
   ]
  },
  {
   "cell_type": "code",
   "execution_count": 44,
   "id": "87c0ca62",
   "metadata": {},
   "outputs": [
    {
     "name": "stdout",
     "output_type": "stream",
     "text": [
      "Prediction:  virginica\n",
      "Anchor: petal length (cm) > 5.10\n",
      "Precision: 1.00\n",
      "Coverage: 0.25\n"
     ]
    }
   ],
   "source": [
    "exp = explainer.explain_instance(X_test[19], xgb_model.predict, threshold=0.95)\n",
    "print('Prediction: ', explainer.class_names[xgb_model.predict(X_test[19].reshape(1,-1))][0])\n",
    "print('Anchor: %s' % (' AND '.join(exp.names())))\n",
    "print('Precision: %.2f' % exp.precision())\n",
    "print('Coverage: %.2f' % exp.coverage())"
   ]
  },
  {
   "cell_type": "code",
   "execution_count": null,
   "id": "28dacab6",
   "metadata": {},
   "outputs": [],
   "source": []
  }
 ],
 "metadata": {
  "kernelspec": {
   "display_name": "Python 3",
   "language": "python",
   "name": "python3"
  },
  "language_info": {
   "codemirror_mode": {
    "name": "ipython",
    "version": 3
   },
   "file_extension": ".py",
   "mimetype": "text/x-python",
   "name": "python",
   "nbconvert_exporter": "python",
   "pygments_lexer": "ipython3",
   "version": "3.6.4"
  }
 },
 "nbformat": 4,
 "nbformat_minor": 5
}
